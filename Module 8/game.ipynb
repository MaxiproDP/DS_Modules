{
 "cells": [
  {
   "cell_type": "markdown",
   "metadata": {},
   "source": [
    "# Угадай число\n",
    "Нужно написать программу, которая угадывает число за минимальное число попыток.\n",
    "\n",
    "## Условия соревнования\n",
    "- Компьютер загадывает целое число от 1 до 100, и нам его нужно угадать. Под «угадать», подразумевается «написать программу, которая угадывает число».    \n",
    "- Алгоритм учитывает информацию о том, больше ли случайное число или меньше нужного нам.\n",
    "- Необходимо добиться того, чтобы программа угадывала число меньше, чем за 20 попыток."
   ]
  },
  {
   "cell_type": "markdown",
   "metadata": {},
   "source": [
    "### Для определения загаданного числа используем метод половинного деления:\n",
    "Метод половинного деления основан на последовательном делении отрезка локализации корня пополам.\n",
    "\n",
    "Для этого выбирается начальное приближение к отрезку [a, b], такое, что f(a)×f(b)<0, затем определяется знак функции в точке - середине отрезка [a, b]. Если он противоположен  знаку функции в точке a, то корень локализован на отрезке [a, c], если же нет – то на отрезке [c, b]."
   ]
  },
  {
   "cell_type": "markdown",
   "metadata": {},
   "source": [
    "### Алгоритм метода половинного деления можно свести к следующему:\n",
    "\n",
    "\n",
    "1.      выбрать a, b и вычислить c = (a+b)/2\n",
    "\n",
    "2.      если загаданное число < с , то a = a; b = c   иначе  a = c; b = b\n",
    "\n",
    "3.      повторять п.2 пока загаданное число будет равняться с"
   ]
  },
  {
   "cell_type": "markdown",
   "metadata": {},
   "source": [
    "### Реализуем указанный алгоритм в функции game_core_v3"
   ]
  },
  {
   "cell_type": "code",
   "execution_count": 24,
   "metadata": {},
   "outputs": [],
   "source": [
    "import numpy as np\n",
    "\n",
    "def game_core_v3(number: int = 1) -> int:\n",
    "    \"\"\"Угадываем число, используя метод половинного деления:\n",
    "\n",
    "    Args:\n",
    "        number (int, optional): Загаданное число. Defaults to 1.\n",
    "\n",
    "    Returns:\n",
    "        int: Число попыток\n",
    "    \"\"\"\n",
    "    count = 0\n",
    "    \n",
    "    \"\"\"Учитывая условие задачи, что число загадано на отрезке от 1 до 100,\n",
    "    передаем начальные параметры в функцию\n",
    "    \"\"\"\n",
    "    start = 1 #начало отрезка\n",
    "    end = 100 #конец отрезка\n",
    "    predict_number  = round((end+start)/2) #середина отрезка\n",
    "    \n",
    "\n",
    "    while number != predict_number:\n",
    "        count += 1\n",
    "        if number > predict_number: #Если загаданное число больше середины отрезка, смещаем начало отрезка на середину\n",
    "            start = predict_number\n",
    "            predict_number = round((end+start)/2)\n",
    "            \n",
    "        elif number < predict_number: #Если загаданное число меньше середины отрезка, смещаем конец отрезка на середину\n",
    "            end  = predict_number \n",
    "            predict_number = (end+start)//2\n",
    "            \n",
    "        else:\n",
    "            break  # выход из цикла если угадали\n",
    "    \n",
    "        \n",
    "    return count"
   ]
  },
  {
   "cell_type": "markdown",
   "metadata": {},
   "source": [
    "## Функция для оценки"
   ]
  },
  {
   "cell_type": "markdown",
   "metadata": {},
   "source": [
    "Определяем функцию подсчета среднего количества попыток, за который алгоритм находит загаданное число."
   ]
  },
  {
   "cell_type": "code",
   "execution_count": 25,
   "metadata": {},
   "outputs": [],
   "source": [
    "def score_game(game_core_v3) -> int:\n",
    "    \"\"\"За какое количство попыток в среднем за 1000 подходов угадывает наш алгоритм\n",
    "\n",
    "    Args:\n",
    "        game_core_v3 ([type]): функция угадывания\n",
    "\n",
    "    Returns:\n",
    "        int: среднее количество попыток\n",
    "    \"\"\"\n",
    "    count_ls = []\n",
    "    #np.random.seed(1)  # фиксируем сид для воспроизводимости\n",
    "    random_array = np.random.randint(1, 101, size=(1000))  # загадали список чисел\n",
    "\n",
    "    for number in random_array:\n",
    "        count_ls.append(game_core_v3(number))\n",
    "\n",
    "    score = int(np.mean(count_ls))\n",
    "    print(f\"Ваш алгоритм угадывает число в среднем за: {score} попыток\")\n",
    "    #return score"
   ]
  },
  {
   "cell_type": "markdown",
   "metadata": {},
   "source": [
    "#### Оцениваем качество работы алгоритма"
   ]
  },
  {
   "cell_type": "code",
   "execution_count": 26,
   "metadata": {},
   "outputs": [
    {
     "name": "stdout",
     "output_type": "stream",
     "text": [
      "Run benchmarking for game_core_v3: Ваш алгоритм угадывает число в среднем за: 4 попыток\n"
     ]
    }
   ],
   "source": [
    "print('Run benchmarking for game_core_v3: ', end='')\n",
    "score_game(game_core_v3)"
   ]
  },
  {
   "cell_type": "markdown",
   "metadata": {},
   "source": [
    "### Результаты\n",
    "\n",
    "Представленный алгоритм обеспечивает оптимальный способ нахождения загаданного числа"
   ]
  }
 ],
 "metadata": {
  "kernelspec": {
   "display_name": "Python 3",
   "language": "python",
   "name": "python3"
  },
  "language_info": {
   "codemirror_mode": {
    "name": "ipython",
    "version": 3
   },
   "file_extension": ".py",
   "mimetype": "text/x-python",
   "name": "python",
   "nbconvert_exporter": "python",
   "pygments_lexer": "ipython3",
   "version": "3.10.11"
  },
  "orig_nbformat": 4
 },
 "nbformat": 4,
 "nbformat_minor": 2
}
